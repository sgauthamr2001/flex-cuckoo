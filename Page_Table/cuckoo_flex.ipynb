{
 "cells": [
  {
   "cell_type": "code",
   "execution_count": null,
   "metadata": {},
   "outputs": [],
   "source": [
    "# Extract bits n-m of a virtual address x\n",
    "def extract(x, n, m):\n",
    "    return (x >> m) & (2**(n-m+1)-1)\n",
    "\n",
    "# Three CRC hash functions H1, H2, and H3 that operate on pte_tag\n",
    "def h1(x, len):\n",
    "    return crc(x) % len\n",
    "\n",
    "def h2(x, len):\n",
    "    return crc(x ^ 0xFFFFFFFF)  % len\n",
    "\n",
    "def h3(x, len):\n",
    "    return crc(x ^ 0xAAAAAAAA)  % len\n",
    "\n",
    "# CRC hash function for 33-bit integers\n",
    "def crc(x):\n",
    "    crc = 0xFFFFFFFF\n",
    "    for i in range(33):\n",
    "        if (((x >> i) & 1) ^ (crc >> 31)) == 1:\n",
    "            crc = ((crc << 1) ^ 0x04C11DB7) & 0xFFFFFFFF\n",
    "        else:\n",
    "            crc = (crc << 1) & 0xFFFFFFFF\n",
    "    return crc\n",
    "\n",
    "# Takes the value performs the hashing and stores in a list \n",
    "def ilist_gen(x, len):\n",
    "    i1 = h1(x, len)\n",
    "    i2 = h2(x, len)  \n",
    "    i3 = h3(x, len)\n",
    "    return [i1, i2, i3]"
   ]
  },
  {
   "cell_type": "code",
   "execution_count": null,
   "metadata": {},
   "outputs": [],
   "source": [
    "import numpy as np\n",
    "\n",
    "TABLE_SIZE = 2**30                               # 1GB\n",
    "PAGE_SIZE = 2**12                                # 4KB\n",
    "BYTES_PER_LINE = 8                               # 8B\n",
    "FRAME_LEN = PAGE_SIZE // BYTES_PER_LINE          # 512\n",
    "NUM_FRAMES = 500                                 # 500 would do, ideally, TABLE_SIZE // PAGE_SIZE, 262144\n",
    "\n",
    "# Initalising the PT table\n",
    "pt_table = np.full((NUM_FRAMES, FRAME_LEN), None)"
   ]
  },
  {
   "cell_type": "code",
   "execution_count": null,
   "metadata": {},
   "outputs": [],
   "source": [
    "import random\n",
    "\n",
    "# d-ary hash table with len entries in each ary \n",
    "len = 150             # Length of each hash table\n",
    "ary = 3               # Number of hash tables\n",
    "max_attempts = 10     # Maximum number of attempts to insert a pte_tag        \n",
    "\n",
    "# Intialising the hash table\n",
    "pte_table = np.full((ary, len, 2), -1)\n",
    "\n",
    "kernel_fp = [0]       # Kernel page-allocator frame pointer\n",
    "count = [0]           # Number of page hits\n",
    "\n",
    "# Inserting a pte_tag into the hash table\n",
    "def insert1(x):\n",
    "\n",
    "    dlist = [0, 1, 2]\n",
    "\n",
    "    prev_d = -1\n",
    "    pte_tag = extract(x, 47, 21)\n",
    "    pte_offset = extract(x, 20, 12)\n",
    "    pte_frame = kernel_fp[0]\n",
    "\n",
    "    for j in range(1, max_attempts):\n",
    "        ilist = [h1(pte_tag, len), h2(pte_tag, len), h3(pte_tag, len)]\n",
    "        for d in dlist: \n",
    "            if pte_table[d][ilist[d]][0] == pte_tag:\n",
    "                if pte_table[d][ilist[d]][1] == -1: \n",
    "                    pte_table[d][ilist[d]][1] = pte_frame\n",
    "                    if j == 1: \n",
    "                        kernel_fp[0] += 1\n",
    "                        if pt_table[pte_table[d][ilist[d]][1]][pte_offset] == None:\n",
    "                            pt_table[pte_table[d][ilist[d]][1]][pte_offset] = 1\n",
    "                        else:\n",
    "                            count[0] += 1\n",
    "                    return j, True \n",
    "                else:\n",
    "                    if j == 1:\n",
    "                        if pt_table[pte_table[d][ilist[d]][1]][pte_offset] == None:\n",
    "                            pt_table[pte_table[d][ilist[d]][1]][pte_offset] = 1\n",
    "                        else:\n",
    "                            count[0] += 1\n",
    "                    return j, True\n",
    "            elif pte_table[d][ilist[d]][0] == -1:\n",
    "                pte_table[d][ilist[d]][0] = pte_tag\n",
    "                pte_table[d][ilist[d]][1] = pte_frame\n",
    "                if j == 1: \n",
    "                    kernel_fp[0] += 1\n",
    "                    if pt_table[pte_table[d][ilist[d]][1]][pte_offset] == None:\n",
    "                        pt_table[pte_table[d][ilist[d]][1]][pte_offset] = 1\n",
    "                    else:\n",
    "                        count[0] += 1\n",
    "                return j, True\n",
    "            \n",
    "        curr_d = random.choice(dlist)\n",
    "  \n",
    "        if(prev_d != -1): dlist.append(prev_d)\n",
    "\n",
    "        update_pte_tag = pte_tag  \n",
    "        update_pte_frame = pte_frame\n",
    "\n",
    "        pte_tag = pte_table[curr_d][ilist[curr_d]][0]\n",
    "        pte_frame = pte_table[curr_d][ilist[curr_d]][1]\n",
    "\n",
    "        pte_table[curr_d][ilist[curr_d]][0] = update_pte_tag\n",
    "        pte_table[curr_d][ilist[curr_d]][1] = update_pte_frame\n",
    "\n",
    "        if j == 1: \n",
    "            kernel_fp[0] += 1\n",
    "            if pt_table[pte_table[curr_d][ilist[curr_d]][1]][pte_offset] == None:\n",
    "                pt_table[pte_table[curr_d][ilist[curr_d]][1]][pte_offset] = 1\n",
    "            else:\n",
    "                count[0] += 1\n",
    "\n",
    "        prev_d = curr_d\n",
    "        dlist.remove(curr_d)\n",
    "        \n",
    "    return j, False"
   ]
  },
  {
   "cell_type": "code",
   "execution_count": null,
   "metadata": {},
   "outputs": [],
   "source": [
    "import time\n",
    " \n",
    "# Number of insertion failures and successes\n",
    "yep = 0\n",
    "nah = 0\n",
    "\n",
    "prev_j = 1\n",
    "\n",
    "start = time.time()\n",
    "with open(\"pinatrace_gups.out\") as file:\n",
    "    i = 0\n",
    "    for line in file:\n",
    "        i += 1\n",
    "        if line != '#eof\\n':\n",
    "            virtual_address = line[18:32]\n",
    "            virtual_address = int(virtual_address, 0)\n",
    "            j, outcome = insert1(virtual_address)\n",
    "            \n",
    "            prev_j = (j + prev_j)/2\n",
    "\n",
    "            if(outcome == False):\n",
    "                nah += 1\n",
    "            else:\n",
    "                yep += 1\n",
    "\n",
    "        if(i % 100000000 == 0):\n",
    "            print(i, time.time() - start)\n",
    "        \n",
    "end =  time.time()\n",
    "\n",
    "print(\"Execution time in seconds: \",(end-start))"
   ]
  },
  {
   "cell_type": "code",
   "execution_count": null,
   "metadata": {},
   "outputs": [],
   "source": [
    "# Average attempts for insertion \n",
    "prev_j"
   ]
  },
  {
   "cell_type": "code",
   "execution_count": null,
   "metadata": {},
   "outputs": [],
   "source": [
    "# Page hit rate\n",
    "count"
   ]
  },
  {
   "cell_type": "code",
   "execution_count": null,
   "metadata": {},
   "outputs": [],
   "source": [
    "# Number of PT frames allocated\n",
    "kernel_fp[0]"
   ]
  },
  {
   "cell_type": "code",
   "execution_count": null,
   "metadata": {},
   "outputs": [],
   "source": [
    "entry_null = 0 \n",
    "entry_fill = 0 \n",
    "\n",
    "for d in range(ary) :\n",
    "    for i in range(len):\n",
    "        if pte_table[d][i][0] == -1:\n",
    "            entry_null += 1\n",
    "        else: \n",
    "            entry_fill += 1"
   ]
  },
  {
   "cell_type": "code",
   "execution_count": null,
   "metadata": {},
   "outputs": [],
   "source": [
    "# Number of filled entries in the hash table\n",
    "entry_fill"
   ]
  },
  {
   "cell_type": "code",
   "execution_count": null,
   "metadata": {},
   "outputs": [],
   "source": [
    "# Number of empty entries in the hash table\n",
    "entry_null"
   ]
  },
  {
   "cell_type": "code",
   "execution_count": null,
   "metadata": {},
   "outputs": [],
   "source": [
    "fill_rate = 0\n",
    "empty_rate = 0"
   ]
  },
  {
   "cell_type": "code",
   "execution_count": null,
   "metadata": {},
   "outputs": [],
   "source": [
    "for j in range(kernel_fp[0]):\n",
    "    for i in range(FRAME_LEN):\n",
    "        if pt_table[j][i] == None:\n",
    "            empty_rate += 1\n",
    "        else:\n",
    "            fill_rate += 1"
   ]
  },
  {
   "cell_type": "code",
   "execution_count": null,
   "metadata": {},
   "outputs": [],
   "source": [
    "# Number of filled entries in the PT table\n",
    "fill_rate"
   ]
  },
  {
   "cell_type": "code",
   "execution_count": null,
   "metadata": {},
   "outputs": [],
   "source": [
    "# Number of empty entries in the PT table\n",
    "empty_rate"
   ]
  },
  {
   "cell_type": "code",
   "execution_count": null,
   "metadata": {},
   "outputs": [],
   "source": [
    "# Insertion success rate\n",
    "yep"
   ]
  },
  {
   "cell_type": "code",
   "execution_count": null,
   "metadata": {},
   "outputs": [],
   "source": [
    "# Insertion failure rate \n",
    "nah"
   ]
  }
 ],
 "metadata": {
  "kernelspec": {
   "display_name": "Python 3",
   "language": "python",
   "name": "python3"
  },
  "language_info": {
   "codemirror_mode": {
    "name": "ipython",
    "version": 3
   },
   "file_extension": ".py",
   "mimetype": "text/x-python",
   "name": "python",
   "nbconvert_exporter": "python",
   "pygments_lexer": "ipython3",
   "version": "3.10.9"
  },
  "orig_nbformat": 4
 },
 "nbformat": 4,
 "nbformat_minor": 2
}
