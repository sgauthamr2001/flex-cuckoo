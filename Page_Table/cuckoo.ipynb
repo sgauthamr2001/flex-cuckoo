{
 "cells": [
  {
   "cell_type": "code",
   "execution_count": null,
   "metadata": {},
   "outputs": [],
   "source": [
    "# Extract bits n-m of a virtual address x\n",
    "def extract(x, n, m):\n",
    "    return (x >> m) & (2**(n-m+1)-1)\n",
    "\n",
    "# Three CRC hash functions H1, H2, and H3 that operate on pte_tag\n",
    "def h1(x, len):\n",
    "    return crc(x) % len\n",
    "\n",
    "def h2(x, len):\n",
    "    return crc(x ^ 0xFFFFFFFF)  % len\n",
    "\n",
    "def h3(x, len):\n",
    "    return crc(x ^ 0xAAAAAAAA)  % len\n",
    "\n",
    "# CRC hash function for 33-bit integers\n",
    "def crc(x):\n",
    "    crc = 0xFFFFFFFF\n",
    "    for i in range(33):\n",
    "        if (((x >> i) & 1) ^ (crc >> 31)) == 1:\n",
    "            crc = ((crc << 1) ^ 0x04C11DB7) & 0xFFFFFFFF\n",
    "        else:\n",
    "            crc = (crc << 1) & 0xFFFFFFFF\n",
    "    return crc\n",
    "\n",
    "# Takes the value performs the hashing and stores in a list \n",
    "def ilist_gen(x, len):\n",
    "    i1 = h1(x, len)\n",
    "    i2 = h2(x, len)  \n",
    "    i3 = h3(x, len)\n",
    "    return [i1, i2, i3]"
   ]
  },
  {
   "cell_type": "code",
   "execution_count": null,
   "metadata": {},
   "outputs": [],
   "source": [
    "import random\n",
    "import numpy as np\n",
    "\n",
    "# d-ary hash table with len entries in each ary \n",
    "len = 8192                     # Length of each hash table\n",
    "bits = 3                       # Number of bits for offset \n",
    "entry_len = 2 ** bits + 1      # Length of each entry in the hash table\n",
    "ary = 3                        # Number of hash tables\n",
    "max_attempts = 10              # Maximum number of attempts to insert a pte_tag\n",
    "off_len = 3                    # Number of bits for offset\n",
    "\n",
    "# Numpy array of -1s to represent the pte_table\n",
    "pte_table = np.full((ary, len, entry_len), -1)\n",
    "\n",
    "# Count of the number of page hits\n",
    "count = [0]\n",
    "\n",
    "# Function to insert a pte_tag into the pte_table\n",
    "def insert(x):\n",
    "\n",
    "    dlist = [i for i in range(ary)]\n",
    "\n",
    "    prev_d = -1\n",
    "    pte_tag = extract(x, 47, 12 + off_len)\n",
    "    pte_offset = extract(x, 12 + off_len - 1, 12)\n",
    "\n",
    "    for j in range(1, max_attempts):\n",
    "        ilist = [h1(pte_tag, len), h2(pte_tag, len), h3(pte_tag, len)]\n",
    "        for d in dlist: \n",
    "            if pte_table[d][ilist[d]][entry_len - 1] == pte_tag:\n",
    "                if pte_table[d][ilist[d]][pte_offset] == -1: \n",
    "                    pte_table[d][ilist[d]][pte_offset] = 1\n",
    "                    return j, True \n",
    "                else:\n",
    "                    if j == 1: count[0] += 1\n",
    "                    return j, True\n",
    "            elif pte_table[d][ilist[d]][entry_len - 1] == -1:\n",
    "                pte_table[d][ilist[d]][entry_len - 1] = pte_tag\n",
    "                pte_table[d][ilist[d]][pte_offset] = 1\n",
    "                return j, True\n",
    "        \n",
    "    \n",
    "        curr_d = random.choice(dlist)\n",
    "  \n",
    "        if(prev_d != -1): dlist.append(prev_d)\n",
    "\n",
    "        update_pte_tag = pte_tag\n",
    "        \n",
    "        pte_tag = pte_table[curr_d][ilist[curr_d]][entry_len - 1]\n",
    "\n",
    "        pte_table[curr_d][ilist[curr_d]][entry_len - 1] = update_pte_tag\n",
    "        pte_table[curr_d][ilist[curr_d]][pte_offset] = 1\n",
    "\n",
    "        prev_d = curr_d\n",
    "        dlist.remove(curr_d)\n",
    "        \n",
    "    return j, False"
   ]
  },
  {
   "cell_type": "code",
   "execution_count": null,
   "metadata": {},
   "outputs": [],
   "source": [
    "import time\n",
    " \n",
    "# Number of insertion failures and successes\n",
    "yep = 0\n",
    "nah = 0\n",
    "\n",
    "prev_j = 1\n",
    "\n",
    "start = time.time()\n",
    "with open(\"pinatrace_gups.out\") as file:\n",
    "    i = 0\n",
    "    for line in file:\n",
    "        i += 1\n",
    "        if line != '#eof\\n':\n",
    "            virtual_address = line[18:32]\n",
    "            virtual_address = int(virtual_address, 0)\n",
    "            j, outcome = insert(virtual_address)\n",
    "                \n",
    "            prev_j = (prev_j + j)/2\n",
    "\n",
    "            if(outcome == False):\n",
    "                nah += 1\n",
    "            else:\n",
    "                yep += 1\n",
    "\n",
    "        if(i % 100000000 == 0):\n",
    "            print(i, time.time() - start)\n",
    "        \n",
    "end =  time.time()\n",
    "\n",
    "print(\"Execution time in seconds: \",(end-start))"
   ]
  },
  {
   "cell_type": "code",
   "execution_count": null,
   "metadata": {},
   "outputs": [],
   "source": [
    "# Average attempts for insertion \n",
    "prev_j"
   ]
  },
  {
   "cell_type": "code",
   "execution_count": null,
   "metadata": {},
   "outputs": [],
   "source": [
    "entry_null = 0 \n",
    "entry_fill = 0 \n",
    "\n",
    "total_null = 0 \n",
    "total_fill = 0\n",
    "\n",
    "for d in range(ary) :\n",
    "    for i in range(len):\n",
    "        if pte_table[d][i][8] == -1:\n",
    "            entry_null += 1\n",
    "        else: \n",
    "            entry_fill += 1\n",
    "        for j in range(entry_len - 1):\n",
    "            if pte_table[d][i][j] == -1:\n",
    "                total_null += 1\n",
    "            else:\n",
    "                total_fill += 1"
   ]
  },
  {
   "cell_type": "code",
   "execution_count": null,
   "metadata": {},
   "outputs": [],
   "source": [
    "# Number of filled entries in the hash table\n",
    "entry_fill"
   ]
  },
  {
   "cell_type": "code",
   "execution_count": null,
   "metadata": {},
   "outputs": [],
   "source": [
    "# Number of empty entries in the hash table\n",
    "entry_null"
   ]
  },
  {
   "cell_type": "code",
   "execution_count": null,
   "metadata": {},
   "outputs": [],
   "source": [
    "# Number of PT filled entries in the hash table\n",
    "total_null"
   ]
  },
  {
   "cell_type": "code",
   "execution_count": null,
   "metadata": {},
   "outputs": [],
   "source": [
    "# Number of PT empty entries in the hash table\n",
    "total_fill"
   ]
  },
  {
   "cell_type": "code",
   "execution_count": null,
   "metadata": {},
   "outputs": [],
   "source": [
    "# Insertion success rate\n",
    "yep "
   ]
  },
  {
   "cell_type": "code",
   "execution_count": null,
   "metadata": {},
   "outputs": [],
   "source": [
    "\n",
    "# Insertion failure rate \n",
    "nah"
   ]
  }
 ],
 "metadata": {
  "kernelspec": {
   "display_name": "Python 3",
   "language": "python",
   "name": "python3"
  },
  "language_info": {
   "codemirror_mode": {
    "name": "ipython",
    "version": 3
   },
   "file_extension": ".py",
   "mimetype": "text/x-python",
   "name": "python",
   "nbconvert_exporter": "python",
   "pygments_lexer": "ipython3",
   "version": "3.10.9"
  },
  "orig_nbformat": 4
 },
 "nbformat": 4,
 "nbformat_minor": 2
}
