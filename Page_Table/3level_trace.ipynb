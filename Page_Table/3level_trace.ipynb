{
 "cells": [
  {
   "cell_type": "code",
   "execution_count": null,
   "metadata": {},
   "outputs": [],
   "source": [
    "import numpy as np\n",
    "\n",
    "# Define page size, page table size, and physical memory size\n",
    "PAGE_SIZE = 4096               # 4KB\n",
    "BYTES_PER_LINE = 8             # 8B\n",
    "PHYSICAL_MEMORY_SIZE = 2**32   # 4GB\n",
    "TABLE_SIZE = 2**30             # 1GB\n",
    "\n",
    "PAGE_SIZE_2 = 2**21            # 2MB\n",
    "\n",
    "FRAME_LEN = PAGE_SIZE // BYTES_PER_LINE\n",
    "FRAME_LEN_2 = PAGE_SIZE_2 // BYTES_PER_LINE\n",
    "\n",
    "PAGE_MASK = ((1 << 9) - 1) << 12\n",
    "PD_PT_MASK = ((1 << 18) - 1) << 21\n",
    "PML4_MASK = ((1 << 9) - 1) << 39\n",
    "\n",
    "kernel_fp = [0, 0]\n",
    "count = [0, 0]\n",
    "\n",
    "# Define physical memory\n",
    "physical_memory = np.full((PHYSICAL_MEMORY_SIZE // PAGE_SIZE), None)\n",
    "\n",
    "# Define page tables\n",
    "pml4_table = np.full((FRAME_LEN), None)\n",
    "pd_pt_table = np.full((5, FRAME_LEN_2), None)\n",
    "pt_table  = np.full((TABLE_SIZE // PAGE_SIZE, FRAME_LEN), None)\n",
    "\n",
    "# Define FIFO replacement variables \n",
    "entry_time = [0] \n",
    "fifo = {}\n",
    "\n",
    "def get_physical_address(virtual_address):\n",
    "\n",
    "    # Extract the page offset\n",
    "    page_offset = virtual_address & ((1 << 9) - 1)\n",
    "\n",
    "    # Extract the page table indices\n",
    "    pml4_index = (virtual_address & PML4_MASK) >> 39\n",
    "    pd_pt_index = (virtual_address & PD_PT_MASK) >> 21\n",
    "    pt_index = (virtual_address & PAGE_MASK) >> 12\n",
    "\n",
    "    # Check if the PML4 entry is present\n",
    "    if pml4_table[pml4_index] is None:\n",
    "        pml4_table[pml4_index] = kernel_fp[0] \n",
    "        kernel_fp[0] += 1\n",
    "\n",
    "    # Check if the PD_PT entry is present\n",
    "    pd_pt_base = pml4_table[pml4_index]\n",
    "    if pd_pt_table[pd_pt_base][pd_pt_index] is None:\n",
    "        pd_pt_table[pd_pt_base][pd_pt_index] = kernel_fp[1]\n",
    "        kernel_fp[1] += 1\n",
    "\n",
    "    # Check if the PT entry is present\n",
    "    pt_base = pd_pt_table[pd_pt_base][pd_pt_index]\n",
    "    if pt_table[pt_base][pt_index] is None:\n",
    "        handle_page_fault(pt_base, pt_index, pd_pt_index)\n",
    "        count[0] += 1\n",
    "    else: \n",
    "        count[1] += 1\n",
    "    \n",
    "\n",
    "    # Calculate the physical address\n",
    "    physical_frame_number = pt_table[pt_base][pt_index]\n",
    "    physical_address = (physical_frame_number << 12) | page_offset\n",
    "\n",
    "    return physical_address\n",
    "\n",
    "# Define a function to handle a page fault\n",
    "def handle_page_fault(pt_base, pt_index, pd_pt_index):\n",
    "    # Find a free frame in physical memory\n",
    "    for i, frame in enumerate(physical_memory):\n",
    "        if frame is None:\n",
    "            # Allocate the frame to the page\n",
    "            physical_memory[i] = pd_pt_index * FRAME_LEN + pt_index         \n",
    "            pt_table[pt_base][pt_index] = i\n",
    "            fifo[(pt_base, pt_index )] = entry_time[0]\n",
    "            entry_time[0] += 1\n",
    "            return\n",
    "\n",
    "    # If all frames are in use, perform page replacement\n",
    "    # For simplicity, we'll use FIFO (first in, first out) replacement\n",
    "\n",
    "    (base_min, index_min) = min(fifo, key=fifo.get)\n",
    "  \n",
    "    del fifo[(base_min, index_min)]\n",
    "\n",
    "    # Allocate the frame to the new page\n",
    "    allocated_frame = pt_table[base_min][index_min]\n",
    "    physical_memory[allocated_frame] = pd_pt_index * FRAME_LEN + pt_index\n",
    "    pt_table[pt_base][pt_index] = allocated_frame\n",
    "\n",
    "    fifo[(pt_base, pt_index )] = entry_time[0]\n",
    "    entry_time[0] += 1\n",
    "\n",
    "    pt_table[base_min][index_min] = None\n"
   ]
  },
  {
   "cell_type": "code",
   "execution_count": null,
   "metadata": {},
   "outputs": [],
   "source": [
    "import time\n",
    " \n",
    "\n",
    "# Read and parse the trace file\n",
    "\n",
    "start = time.time()\n",
    "with open(\"pinatrace_btree_large.out\") as file:\n",
    "    i = 0\n",
    "    for line in file:\n",
    "        i += 1      \n",
    "        if line != '#eof\\n':\n",
    "            virtual_address = line[18:32]\n",
    "            virtual_address = int(virtual_address, 0)\n",
    "            physical_address = get_physical_address(virtual_address)\n",
    "        if(i % 100000000 == 0):\n",
    "            print(i, time.time() - start)\n",
    "end =  time.time()\n",
    "print(\"Execution time in seconds: \",(end-start))"
   ]
  },
  {
   "cell_type": "code",
   "execution_count": null,
   "metadata": {},
   "outputs": [],
   "source": [
    "# Tracks the number of kernel page table entries allocated\n",
    "kernel_fp"
   ]
  },
  {
   "cell_type": "code",
   "execution_count": null,
   "metadata": {},
   "outputs": [],
   "source": [
    "pml4_fill = 0\n",
    "pml4_null = 0\n",
    "\n",
    "for element in pml4_table:\n",
    "    if element is not None:\n",
    "        pml4_fill += 1\n",
    "    else:\n",
    "        pml4_null += 1"
   ]
  },
  {
   "cell_type": "code",
   "execution_count": null,
   "metadata": {},
   "outputs": [],
   "source": [
    "# Tracks the number of pml4 entries that are not null\n",
    "pml4_fill"
   ]
  },
  {
   "cell_type": "code",
   "execution_count": null,
   "metadata": {},
   "outputs": [],
   "source": [
    "# Tracks the number of pml4 entries that are null\n",
    "pml4_null"
   ]
  },
  {
   "cell_type": "code",
   "execution_count": null,
   "metadata": {},
   "outputs": [],
   "source": [
    "pd_pt_fill = [0, 0, 0]\n",
    "pd_pt_null = [0, 0, 0]\n",
    "\n",
    "for i in range(kernel_fp[0]):\n",
    "    for element in pd_pt_table[i]:\n",
    "        if element is not None:\n",
    "            pd_pt_fill[i] += 1\n",
    "        else:\n",
    "            pd_pt_null[i] += 1"
   ]
  },
  {
   "cell_type": "code",
   "execution_count": null,
   "metadata": {},
   "outputs": [],
   "source": [
    "# Tracks the number of 2MB page table entries that are not null\n",
    "pd_pt_fill"
   ]
  },
  {
   "cell_type": "code",
   "execution_count": null,
   "metadata": {},
   "outputs": [],
   "source": [
    "# Tracks the number of 2MB page table entries that are null \n",
    "pd_pt_null"
   ]
  },
  {
   "cell_type": "code",
   "execution_count": null,
   "metadata": {},
   "outputs": [],
   "source": [
    "pt_fill = 0\n",
    "pt_null = 0\n",
    "\n",
    "for i in range(kernel_fp[1]):\n",
    "    for element in pt_table[i]:\n",
    "        if element is not None:\n",
    "            pt_fill += 1\n",
    "        else:\n",
    "            pt_null += 1"
   ]
  },
  {
   "cell_type": "code",
   "execution_count": null,
   "metadata": {},
   "outputs": [],
   "source": [
    "# Tracks the number of 4KB PT page table entries that are not null\n",
    "pt_fill"
   ]
  },
  {
   "cell_type": "code",
   "execution_count": null,
   "metadata": {},
   "outputs": [],
   "source": [
    "# Tracks the number of 4KB PT page table entries that are null\n",
    "pt_null"
   ]
  },
  {
   "cell_type": "code",
   "execution_count": null,
   "metadata": {},
   "outputs": [],
   "source": [
    "# Page hit and miss count \n",
    "count"
   ]
  }
 ],
 "metadata": {
  "kernelspec": {
   "display_name": "Python 3",
   "language": "python",
   "name": "python3"
  },
  "language_info": {
   "codemirror_mode": {
    "name": "ipython",
    "version": 3
   },
   "file_extension": ".py",
   "mimetype": "text/x-python",
   "name": "python",
   "nbconvert_exporter": "python",
   "pygments_lexer": "ipython3",
   "version": "3.10.9"
  },
  "orig_nbformat": 4
 },
 "nbformat": 4,
 "nbformat_minor": 2
}
